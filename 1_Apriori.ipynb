{
 "cells": [
  {
   "cell_type": "markdown",
   "metadata": {},
   "source": [
    "### Apriori\n",
    "Apriori原理是说如果某个项集是频繁的，那么它的所有子集也是频繁的。这个原理直观上并没有什么帮助，但是如果反过来看就有用了，也就是说如果一个项集是非频繁集，那么它的所有超集也是非频繁的。 "
   ]
  },
  {
   "cell_type": "markdown",
   "metadata": {},
   "source": [
    "### 生成候选项集\n",
    "```\n",
    "对数据集中的每条交易记录tran:\n",
    "    对每个候选项集can:\n",
    "        检查一下can是否是tran的子集:\n",
    "            如果是，则增加can的计数值\n",
    "\n",
    "对每个候选项集:\n",
    "    如果其支持度不低于最小值，则保留该项集\n",
    "\n",
    "返回所有频繁项集列表\n",
    "```\n",
    "\n",
    "### 组织完整的Apriori算法\n",
    "```\n",
    "当集合中项的个数大于0时:\n",
    "    构建一个k个项组成的候选项集的列表\n",
    "    检查数据以确认每个项集都是频繁的\n",
    "    保留频繁项集并构建k+1项组成的候选项集的列表\n",
    "```"
   ]
  },
  {
   "cell_type": "code",
   "execution_count": 1,
   "metadata": {
    "collapsed": true
   },
   "outputs": [],
   "source": [
    "def loadDataSet():\n",
    "    return [[1, 3, 4], [2, 3, 5], [1, 2, 3, 5], [2, 5]]\n",
    "\n",
    "# 对C1中每个项构建一个不变集合\n",
    "def createC1(dataSet):\n",
    "    C1 = []\n",
    "    for transaction in dataSet: # 对数据集中的每条交易记录tran\n",
    "        for item in transaction: # 对每个候选项集can\n",
    "            if not [item] in C1: # 检查一下can是否是tran的子集\n",
    "                C1.append([item]) # 如果是，则增加can的计数值\n",
    "    C1.sort()\n",
    "    return list(map(frozenset, C1))\n",
    "\n",
    "# 计算所有项集的支持度\n",
    "def scanD(D,Ck,minSupport):\n",
    "    ssCnt={}\n",
    "    for tid in D:\n",
    "        for can in Ck:\n",
    "            if can.issubset(tid):\n",
    "                if not can in ssCnt:\n",
    "                    ssCnt[can]=1\n",
    "                else: ssCnt[can]+=1\n",
    "    numItems=float(len(D))\n",
    "    retList = []\n",
    "    supportData = {}\n",
    "    for key in ssCnt: # 对每个候选项集\n",
    "        support = ssCnt[key] / numItems\n",
    "        if support >= minSupport: # 如果其支持度不低于最小值，则保留该项集\n",
    "            retList.insert(0, key)\n",
    "        supportData[key] = support\n",
    "    return retList, supportData # 返回所有频繁项集列表"
   ]
  },
  {
   "cell_type": "code",
   "execution_count": 2,
   "metadata": {
    "collapsed": true
   },
   "outputs": [],
   "source": [
    "def aprioriGen(Lk, k):\n",
    "    retList = []\n",
    "    lenLk = len(Lk)\n",
    "    for i in range(lenLk):\n",
    "        for j in range(i+1, lenLk):\n",
    "            L1 = list(Lk[i])[:k-2]; L2 = list(Lk[j])[:k-2]\n",
    "            L1.sort(); L2.sort()\n",
    "            if L1==L2: # 前k-2个项相同时，将两个集合合并\n",
    "                retList.append(Lk[i] | Lk[j])\n",
    "    return retList\n",
    "\n",
    "def apriori(dataSet, minSupport = 0.5):\n",
    "    C1 = createC1(dataSet)\n",
    "    D = list(map(set, dataSet))\n",
    "    L1, supportData = scanD(D, C1, minSupport)\n",
    "    L = [L1]\n",
    "    k = 2\n",
    "    # 扫描数据集，从Ck得到Lk\n",
    "    while (len(L[k-2]) > 0): # 当集合中项的个数大于0时:\n",
    "        Ck = aprioriGen(L[k-2], k) # 构建一个k个项组成的候选项集的列表\n",
    "        Lk, supK = scanD(D, Ck, minSupport) # 检查数据以确认每个项集都是频繁的\n",
    "        supportData.update(supK) # 保留频繁项集并构建k+1项组成的候选项集的列表\n",
    "        L.append(Lk)\n",
    "        k += 1\n",
    "    return L, supportData"
   ]
  },
  {
   "cell_type": "code",
   "execution_count": 3,
   "metadata": {
    "collapsed": true
   },
   "outputs": [],
   "source": [
    "# 生成关联规则\n",
    "def generateRules(L, supportData, minConf=0.7):\n",
    "    bigRuleList = []\n",
    "    for i in range(1, len(L)): # 只获取有两个或更多元素的集合\n",
    "        for freqSet in L[i]:\n",
    "            H1 = [frozenset([item]) for item in freqSet]\n",
    "            if (i > 1):\n",
    "                rulesFromConseq(freqSet, H1, supportData, bigRuleList, minConf)\n",
    "            else:\n",
    "                calcConf(freqSet, H1, supportData, bigRuleList, minConf)\n",
    "    return bigRuleList\n",
    "\n",
    "# 生成候选规则集合\n",
    "def calcConf(freqSet, H, supportData, brl, minConf=0.7):\n",
    "    prunedH = []\n",
    "    for conseq in H: # 遍历H中的所有项集并计算它们的可信度值\n",
    "        conf = supportData[freqSet]/supportData[freqSet-conseq]\n",
    "        if conf >= minConf:\n",
    "            # print (freqSet-conseq,'-->',conseq,'conf:',conf)\n",
    "            brl.append((freqSet-conseq, conseq, conf))\n",
    "            prunedH.append(conseq)\n",
    "    return prunedH\n",
    "\n",
    "# 对规则进行评估\n",
    "def rulesFromConseq(freqSet, H, supportData, brl, minConf=0.7):\n",
    "    m = len(H[0])\n",
    "    if (len(freqSet) > (m + 1)): # 尝试进一步合并\n",
    "        Hmp1 = aprioriGen(H, m+1) # 创建Hm+1条新候选规则\n",
    "        Hmp1 = calcConf(freqSet, Hmp1, supportData, brl, minConf)\n",
    "        if (len(Hmp1) > 1):\n",
    "            rulesFromConseq(freqSet, Hmp1, supportData, brl, minConf)"
   ]
  },
  {
   "cell_type": "code",
   "execution_count": 4,
   "metadata": {},
   "outputs": [],
   "source": [
    "dataSet = loadDataSet()"
   ]
  },
  {
   "cell_type": "code",
   "execution_count": 5,
   "metadata": {},
   "outputs": [
    {
     "data": {
      "text/plain": [
       "{frozenset({1}): 0.5,\n",
       " frozenset({3}): 0.75,\n",
       " frozenset({4}): 0.25,\n",
       " frozenset({2}): 0.75,\n",
       " frozenset({5}): 0.75,\n",
       " frozenset({1, 3}): 0.5,\n",
       " frozenset({2, 5}): 0.75,\n",
       " frozenset({3, 5}): 0.5,\n",
       " frozenset({2, 3}): 0.5,\n",
       " frozenset({1, 5}): 0.25,\n",
       " frozenset({1, 2}): 0.25,\n",
       " frozenset({2, 3, 5}): 0.5}"
      ]
     },
     "execution_count": 5,
     "metadata": {},
     "output_type": "execute_result"
    }
   ],
   "source": [
    "L, suppData = apriori(dataSet, minSupport=0.5)\n",
    "suppData"
   ]
  },
  {
   "cell_type": "code",
   "execution_count": 6,
   "metadata": {},
   "outputs": [
    {
     "data": {
      "text/plain": [
       "[(frozenset({5}), frozenset({2}), 1.0),\n",
       " (frozenset({2}), frozenset({5}), 1.0),\n",
       " (frozenset({1}), frozenset({3}), 1.0)]"
      ]
     },
     "execution_count": 6,
     "metadata": {},
     "output_type": "execute_result"
    }
   ],
   "source": [
    "rules = generateRules(L, suppData, minConf=0.7)\n",
    "rules"
   ]
  },
  {
   "cell_type": "code",
   "execution_count": 7,
   "metadata": {},
   "outputs": [
    {
     "data": {
      "text/plain": [
       "[(frozenset({3}), frozenset({2}), 0.6666666666666666),\n",
       " (frozenset({2}), frozenset({3}), 0.6666666666666666),\n",
       " (frozenset({5}), frozenset({3}), 0.6666666666666666),\n",
       " (frozenset({3}), frozenset({5}), 0.6666666666666666),\n",
       " (frozenset({5}), frozenset({2}), 1.0),\n",
       " (frozenset({2}), frozenset({5}), 1.0),\n",
       " (frozenset({3}), frozenset({1}), 0.6666666666666666),\n",
       " (frozenset({1}), frozenset({3}), 1.0),\n",
       " (frozenset({5}), frozenset({2, 3}), 0.6666666666666666),\n",
       " (frozenset({3}), frozenset({2, 5}), 0.6666666666666666),\n",
       " (frozenset({2}), frozenset({3, 5}), 0.6666666666666666)]"
      ]
     },
     "execution_count": 7,
     "metadata": {},
     "output_type": "execute_result"
    }
   ],
   "source": [
    "rules = generateRules(L, suppData, minConf=0.5)\n",
    "rules"
   ]
  },
  {
   "cell_type": "markdown",
   "metadata": {},
   "source": [
    "### 毒蘑菇数据集\n",
    "数据集中包含了8124个样本和22个变量（如蘑菇的颜色、形状、光滑度等）。\n",
    "\n",
    "每一种都被分为绝对可食用的，绝对有毒的，或者具有未知的可食性。\n",
    "\n",
    "该数据集是探究机器学习分类算法算法不可多得的一个优质数据集。\n",
    "\n",
    "parameters:\n",
    "```\n",
    "cap-shape: bell=b,conical=c,convex=x,flat=f, knobbed=k,sunken=s\n",
    "cap-surface: fibrous=f,grooves=g,scaly=y,smooth=s\n",
    "cap-color: brown=n,buff=b,cinnamon=c,gray=g,green=r,pink=p,purple=u,red=e,white=w,yellow=y\n",
    "bruises: bruises=t,no=f\n",
    "odor: almond=a,anise=l,creosote=c,fishy=y,foul=f,musty=m,none=n,pungent=p,spicy=s\n",
    "gill-attachment: attached=a,descending=d,free=f,notched=n\n",
    "gill-spacing: close=c,crowded=w,distant=d\n",
    "gill-size: broad=b,narrow=n\n",
    "gill-color: black=k,brown=n,buff=b,chocolate=h,gray=g, green=r,orange=o,pink=p,purple=u,red=e,white=w,yellow=y\n",
    "stalk-shape: enlarging=e,tapering=t\n",
    "stalk-root: bulbous=b,club=c,cup=u,equal=e,rhizomorphs=z,rooted=r,missing=?\n",
    "stalk-surface-above-ring: fibrous=f,scaly=y,silky=k,smooth=s\n",
    "stalk-surface-below-ring: fibrous=f,scaly=y,silky=k,smooth=s\n",
    "stalk-color-above-ring: brown=n,buff=b,cinnamon=c,gray=g,orange=o,pink=p,red=e,white=w,yellow=y\n",
    "stalk-color-below-ring: brown=n,buff=b,cinnamon=c,gray=g,orange=o,pink=p,red=e,white=w,yellow=y\n",
    "veil-type: partial=p,universal=u\n",
    "veil-color: brown=n,orange=o,white=w,yellow=y\n",
    "ring-number: none=n,one=o,two=t\n",
    "ring-type: cobwebby=c,evanescent=e,flaring=f,large=l,none=n,pendant=p,sheathing=s,zone=z\n",
    "spore-print-color: black=k,brown=n,buff=b,chocolate=h,green=r,orange=o,purple=u,white=w,yellow=y\n",
    "population: abundant=a,clustered=c,numerous=n,scattered=s,several=v,solitary=y\n",
    "habitat: grasses=g,leaves=l,meadows=m,paths=p,urban=u,waste=w,woods=d\n",
    "```\n",
    "\n",
    "examples:\n",
    "```\n",
    "1 3 9 13 23 25 34 36 38 40 52 54 59 63 67 76 85 86 90 93 98 107 113 \n",
    "2 3 9 14 23 26 34 36 39 40 52 55 59 63 67 76 85 86 90 93 99 108 114 \n",
    "2 4 9 15 23 27 34 36 39 41 52 55 59 63 67 76 85 86 90 93 99 108 115 \n",
    "```"
   ]
  },
  {
   "cell_type": "code",
   "execution_count": 8,
   "metadata": {
    "collapsed": true
   },
   "outputs": [],
   "source": [
    "mushDataSet = [line.split() for line in open('data/mushroom.dat').readlines()]"
   ]
  },
  {
   "cell_type": "code",
   "execution_count": 9,
   "metadata": {},
   "outputs": [],
   "source": [
    "L, suppData = apriori(mushDataSet, minSupport=0.3)"
   ]
  },
  {
   "cell_type": "code",
   "execution_count": 10,
   "metadata": {},
   "outputs": [
    {
     "name": "stdout",
     "output_type": "stream",
     "text": [
      "frozenset({'28', '2'}) 0.4194977843426883\n",
      "frozenset({'53', '2'}) 0.3190546528803545\n",
      "frozenset({'23', '2'}) 0.33874938453963566\n",
      "frozenset({'34', '2'}) 0.49433776464795665\n",
      "frozenset({'36', '2'}) 0.3702609551944855\n",
      "frozenset({'2', '59'}) 0.448055145248646\n",
      "frozenset({'2', '63'}) 0.41851304775972425\n",
      "frozenset({'67', '2'}) 0.33874938453963566\n",
      "frozenset({'2', '76'}) 0.3328409650418513\n",
      "frozenset({'2', '85'}) 0.517971442639094\n",
      "frozenset({'2', '86'}) 0.49433776464795665\n",
      "frozenset({'2', '90'}) 0.4529788281634663\n",
      "frozenset({'2', '93'}) 0.3879862136878385\n",
      "frozenset({'39', '2'}) 0.48252092565238797\n"
     ]
    }
   ],
   "source": [
    "for item in L[1]:\n",
    "    if item.intersection('2'): # 有毒\n",
    "        print(item, suppData[item])"
   ]
  },
  {
   "cell_type": "code",
   "execution_count": 11,
   "metadata": {},
   "outputs": [
    {
     "name": "stdout",
     "output_type": "stream",
     "text": [
      "frozenset({'34', '28', '53', '2'}) 0.3072378138847858\n",
      "frozenset({'34', '28', '59', '2'}) 0.3259478089611029\n",
      "frozenset({'34', '28', '63', '2'}) 0.32003938946331856\n",
      "frozenset({'34', '28', '2', '85'}) 0.39586410635155095\n",
      "frozenset({'34', '28', '2', '86'}) 0.39586410635155095\n",
      "frozenset({'34', '28', '2', '90'}) 0.3308714918759232\n",
      "frozenset({'28', '63', '59', '2'}) 0.30969965534219596\n",
      "frozenset({'28', '59', '85', '2'}) 0.3495814869522403\n",
      "frozenset({'28', '59', '86', '2'}) 0.3259478089611029\n",
      "frozenset({'28', '59', '90', '2'}) 0.30428360413589367\n",
      "frozenset({'28', '63', '2', '85'}) 0.3436730674544559\n",
      "frozenset({'28', '63', '2', '86'}) 0.32003938946331856\n",
      "frozenset({'28', '2', '86', '85'}) 0.39586410635155095\n",
      "frozenset({'28', '85', '2', '90'}) 0.35450516986706054\n",
      "frozenset({'28', '2', '86', '90'}) 0.3308714918759232\n",
      "frozenset({'39', '28', '53', '2'}) 0.3072378138847858\n",
      "frozenset({'39', '28', '34', '2'}) 0.3722304283604136\n",
      "frozenset({'39', '28', '59', '2'}) 0.3289020187099951\n",
      "frozenset({'39', '28', '63', '2'}) 0.3289020187099951\n",
      "frozenset({'39', '28', '2', '85'}) 0.39586410635155095\n",
      "frozenset({'39', '28', '2', '86'}) 0.3722304283604136\n",
      "frozenset({'39', '28', '2', '90'}) 0.3308714918759232\n",
      "frozenset({'34', '53', '2', '85'}) 0.3190546528803545\n",
      "frozenset({'34', '53', '2', '86'}) 0.3190546528803545\n",
      "frozenset({'34', '53', '2', '90'}) 0.3190546528803545\n",
      "frozenset({'53', '2', '86', '85'}) 0.3190546528803545\n",
      "frozenset({'85', '53', '2', '90'}) 0.3190546528803545\n",
      "frozenset({'53', '2', '86', '90'}) 0.3190546528803545\n",
      "frozenset({'28', '53', '2', '85'}) 0.3072378138847858\n",
      "frozenset({'28', '53', '2', '86'}) 0.3072378138847858\n",
      "frozenset({'28', '53', '2', '90'}) 0.3072378138847858\n",
      "frozenset({'39', '34', '53', '2'}) 0.3072378138847858\n",
      "frozenset({'39', '53', '2', '85'}) 0.3072378138847858\n",
      "frozenset({'39', '53', '2', '86'}) 0.3072378138847858\n",
      "frozenset({'39', '53', '2', '90'}) 0.3072378138847858\n",
      "frozenset({'23', '63', '59', '2'}) 0.3151157065484983\n",
      "frozenset({'23', '59', '2', '85'}) 0.33874938453963566\n",
      "frozenset({'23', '63', '2', '85'}) 0.3151157065484983\n",
      "frozenset({'23', '59', '2', '86'}) 0.33874938453963566\n",
      "frozenset({'23', '63', '2', '86'}) 0.3151157065484983\n",
      "frozenset({'23', '2', '86', '85'}) 0.33874938453963566\n",
      "frozenset({'23', '59', '2', '90'}) 0.31117676021664203\n",
      "frozenset({'23', '85', '2', '90'}) 0.31117676021664203\n",
      "frozenset({'23', '2', '86', '90'}) 0.31117676021664203\n",
      "frozenset({'23', '93', '59', '2'}) 0.3151157065484983\n",
      "frozenset({'23', '93', '2', '85'}) 0.3151157065484983\n",
      "frozenset({'23', '93', '2', '86'}) 0.3151157065484983\n",
      "frozenset({'23', '93', '2', '90'}) 0.31117676021664203\n",
      "frozenset({'34', '23', '59', '2'}) 0.33874938453963566\n",
      "frozenset({'34', '23', '63', '2'}) 0.3151157065484983\n",
      "frozenset({'34', '23', '2', '85'}) 0.33874938453963566\n",
      "frozenset({'34', '23', '2', '86'}) 0.33874938453963566\n",
      "frozenset({'34', '23', '2', '90'}) 0.31117676021664203\n",
      "frozenset({'34', '23', '93', '2'}) 0.3151157065484983\n",
      "frozenset({'34', '63', '59', '2'}) 0.36090595765632694\n",
      "frozenset({'34', '59', '2', '85'}) 0.4244214672575086\n",
      "frozenset({'34', '63', '2', '85'}) 0.3948793697685869\n",
      "frozenset({'34', '67', '2', '85'}) 0.33874938453963566\n",
      "frozenset({'34', '2', '76', '85'}) 0.3328409650418513\n",
      "frozenset({'34', '59', '2', '86'}) 0.4244214672575086\n",
      "frozenset({'34', '63', '2', '86'}) 0.3948793697685869\n",
      "frozenset({'34', '67', '2', '86'}) 0.33874938453963566\n",
      "frozenset({'34', '76', '2', '86'}) 0.3328409650418513\n",
      "frozenset({'34', '2', '86', '85'}) 0.49433776464795665\n",
      "frozenset({'34', '59', '2', '90'}) 0.379123584441162\n",
      "frozenset({'34', '63', '2', '90'}) 0.3495814869522403\n",
      "frozenset({'34', '85', '2', '90'}) 0.4293451501723289\n",
      "frozenset({'34', '2', '86', '90'}) 0.4293451501723289\n",
      "frozenset({'34', '93', '59', '2'}) 0.34465780403741997\n",
      "frozenset({'34', '63', '93', '2'}) 0.3210241260462826\n",
      "frozenset({'34', '93', '2', '85'}) 0.3643525356967011\n",
      "frozenset({'34', '93', '2', '86'}) 0.3643525356967011\n",
      "frozenset({'34', '93', '2', '90'}) 0.3229935992122107\n",
      "frozenset({'34', '23', '36', '2'}) 0.326932545544067\n",
      "frozenset({'23', '59', '36', '2'}) 0.326932545544067\n",
      "frozenset({'23', '63', '36', '2'}) 0.3032988675529296\n",
      "frozenset({'23', '36', '2', '85'}) 0.326932545544067\n",
      "frozenset({'23', '36', '2', '86'}) 0.326932545544067\n",
      "frozenset({'23', '93', '36', '2'}) 0.3032988675529296\n",
      "frozenset({'34', '59', '36', '2'}) 0.34465780403741997\n",
      "frozenset({'34', '63', '36', '2'}) 0.3151157065484983\n",
      "frozenset({'34', '36', '2', '85'}) 0.3466272772033481\n",
      "frozenset({'34', '36', '2', '86'}) 0.3466272772033481\n",
      "frozenset({'34', '36', '2', '90'}) 0.3170851797144264\n",
      "frozenset({'34', '93', '36', '2'}) 0.3170851797144264\n",
      "frozenset({'63', '59', '36', '2'}) 0.33874938453963566\n",
      "frozenset({'59', '36', '2', '85'}) 0.3682914820285574\n",
      "frozenset({'63', '36', '2', '85'}) 0.33874938453963566\n",
      "frozenset({'59', '36', '2', '86'}) 0.34465780403741997\n",
      "frozenset({'63', '36', '2', '86'}) 0.3151157065484983\n",
      "frozenset({'36', '2', '86', '85'}) 0.3466272772033481\n",
      "frozenset({'59', '36', '2', '90'}) 0.34071885770556376\n",
      "frozenset({'63', '36', '2', '90'}) 0.31117676021664203\n",
      "frozenset({'36', '85', '2', '90'}) 0.34071885770556376\n",
      "frozenset({'36', '2', '86', '90'}) 0.3170851797144264\n",
      "frozenset({'93', '59', '36', '2'}) 0.33874938453963566\n",
      "frozenset({'63', '93', '36', '2'}) 0.3151157065484983\n",
      "frozenset({'93', '36', '2', '85'}) 0.34071885770556376\n",
      "frozenset({'93', '36', '2', '86'}) 0.3170851797144264\n",
      "frozenset({'93', '36', '2', '90'}) 0.3348104382077794\n",
      "frozenset({'63', '59', '2', '85'}) 0.3845396356474643\n",
      "frozenset({'63', '59', '2', '86'}) 0.36090595765632694\n",
      "frozenset({'63', '2', '86', '85'}) 0.3948793697685869\n",
      "frozenset({'63', '59', '2', '90'}) 0.3481043820777942\n",
      "frozenset({'63', '85', '2', '90'}) 0.37321516494337764\n",
      "frozenset({'63', '2', '86', '90'}) 0.3495814869522403\n",
      "frozenset({'63', '93', '59', '2'}) 0.3357951747907435\n",
      "frozenset({'63', '93', '2', '85'}) 0.34465780403741997\n",
      "frozenset({'63', '93', '2', '86'}) 0.3210241260462826\n",
      "frozenset({'63', '93', '2', '90'}) 0.3229935992122107\n",
      "frozenset({'67', '86', '85', '2'}) 0.33874938453963566\n",
      "frozenset({'59', '2', '86', '85'}) 0.4244214672575086\n",
      "frozenset({'76', '2', '86', '85'}) 0.3328409650418513\n",
      "frozenset({'59', '85', '2', '90'}) 0.40275726243229937\n",
      "frozenset({'59', '93', '85', '2'}) 0.3682914820285574\n",
      "frozenset({'59', '2', '86', '90'}) 0.379123584441162\n",
      "frozenset({'85', '2', '86', '90'}) 0.4293451501723289\n",
      "frozenset({'93', '59', '2', '86'}) 0.34465780403741997\n",
      "frozenset({'93', '2', '86', '85'}) 0.3643525356967011\n",
      "frozenset({'93', '2', '86', '90'}) 0.3229935992122107\n",
      "frozenset({'59', '93', '90', '2'}) 0.3466272772033481\n",
      "frozenset({'85', '93', '90', '2'}) 0.3466272772033481\n",
      "frozenset({'39', '23', '34', '2'}) 0.326932545544067\n",
      "frozenset({'39', '23', '36', '2'}) 0.326932545544067\n",
      "frozenset({'39', '23', '59', '2'}) 0.326932545544067\n",
      "frozenset({'39', '23', '63', '2'}) 0.3032988675529296\n",
      "frozenset({'39', '23', '2', '85'}) 0.326932545544067\n",
      "frozenset({'39', '23', '2', '86'}) 0.326932545544067\n",
      "frozenset({'39', '23', '93', '2'}) 0.3032988675529296\n",
      "frozenset({'39', '34', '59', '2'}) 0.39192516001969474\n",
      "frozenset({'39', '34', '63', '2'}) 0.3682914820285574\n",
      "frozenset({'39', '34', '67', '2'}) 0.3032988675529296\n",
      "frozenset({'39', '34', '2', '76'}) 0.3032988675529296\n",
      "frozenset({'39', '34', '2', '85'}) 0.4588872476612506\n",
      "frozenset({'39', '34', '2', '86'}) 0.4588872476612506\n",
      "frozenset({'39', '34', '2', '90'}) 0.39389463318562284\n",
      "frozenset({'39', '34', '93', '2'}) 0.34071885770556376\n",
      "frozenset({'39', '34', '36', '2'}) 0.3289020187099951\n",
      "frozenset({'39', '59', '36', '2'}) 0.35056622353520434\n",
      "frozenset({'39', '63', '36', '2'}) 0.326932545544067\n",
      "frozenset({'39', '36', '2', '85'}) 0.35253569670113244\n",
      "frozenset({'39', '36', '2', '86'}) 0.3289020187099951\n",
      "frozenset({'39', '36', '2', '90'}) 0.3229935992122107\n",
      "frozenset({'39', '93', '36', '2'}) 0.3289020187099951\n",
      "frozenset({'39', '63', '59', '2'}) 0.35942885278188086\n",
      "frozenset({'39', '59', '85', '2'}) 0.4155588380108321\n",
      "frozenset({'39', '59', '86', '2'}) 0.39192516001969474\n",
      "frozenset({'39', '59', '90', '2'}) 0.3702609551944855\n",
      "frozenset({'39', '93', '59', '2'}) 0.34465780403741997\n",
      "frozenset({'39', '67', '85', '2'}) 0.3032988675529296\n",
      "frozenset({'39', '67', '86', '2'}) 0.3032988675529296\n",
      "frozenset({'39', '63', '2', '85'}) 0.39192516001969474\n",
      "frozenset({'39', '2', '76', '85'}) 0.3032988675529296\n",
      "frozenset({'39', '63', '2', '86'}) 0.3682914820285574\n",
      "frozenset({'39', '76', '2', '86'}) 0.3032988675529296\n",
      "frozenset({'39', '2', '86', '85'}) 0.4588872476612506\n",
      "frozenset({'39', '63', '2', '90'}) 0.3466272772033481\n",
      "frozenset({'39', '85', '2', '90'}) 0.4175283111767602\n",
      "frozenset({'39', '2', '86', '90'}) 0.39389463318562284\n",
      "frozenset({'39', '63', '93', '2'}) 0.3210241260462826\n",
      "frozenset({'39', '93', '85', '2'}) 0.3643525356967011\n",
      "frozenset({'39', '93', '86', '2'}) 0.34071885770556376\n",
      "frozenset({'39', '93', '90', '2'}) 0.3229935992122107\n"
     ]
    }
   ],
   "source": [
    "for item in L[3]:\n",
    "    if item.intersection('2'): # 有毒\n",
    "        print(item, suppData[item])"
   ]
  },
  {
   "cell_type": "code",
   "execution_count": 12,
   "metadata": {
    "collapsed": true
   },
   "outputs": [],
   "source": [
    "L, suppData = apriori(mushDataSet, minSupport=0.4)"
   ]
  },
  {
   "cell_type": "code",
   "execution_count": 13,
   "metadata": {},
   "outputs": [
    {
     "name": "stdout",
     "output_type": "stream",
     "text": [
      "frozenset({'28', '2'}) 0.4194977843426883\n",
      "frozenset({'34', '2'}) 0.49433776464795665\n",
      "frozenset({'2', '59'}) 0.448055145248646\n",
      "frozenset({'2', '63'}) 0.41851304775972425\n",
      "frozenset({'2', '85'}) 0.517971442639094\n",
      "frozenset({'2', '86'}) 0.49433776464795665\n",
      "frozenset({'2', '90'}) 0.4529788281634663\n",
      "frozenset({'39', '2'}) 0.48252092565238797\n"
     ]
    }
   ],
   "source": [
    "for item in L[1]:\n",
    "    if item.intersection('2'): # 有毒\n",
    "        print(item, suppData[item])"
   ]
  },
  {
   "cell_type": "code",
   "execution_count": 14,
   "metadata": {},
   "outputs": [
    {
     "name": "stdout",
     "output_type": "stream",
     "text": [
      "frozenset({'34', '59', '2', '85'}) 0.4244214672575086\n",
      "frozenset({'34', '59', '2', '86'}) 0.4244214672575086\n",
      "frozenset({'34', '2', '86', '85'}) 0.49433776464795665\n",
      "frozenset({'34', '85', '2', '90'}) 0.4293451501723289\n",
      "frozenset({'34', '2', '86', '90'}) 0.4293451501723289\n",
      "frozenset({'59', '2', '86', '85'}) 0.4244214672575086\n",
      "frozenset({'59', '85', '2', '90'}) 0.40275726243229937\n",
      "frozenset({'85', '2', '86', '90'}) 0.4293451501723289\n",
      "frozenset({'39', '34', '2', '85'}) 0.4588872476612506\n",
      "frozenset({'39', '34', '2', '86'}) 0.4588872476612506\n",
      "frozenset({'39', '59', '85', '2'}) 0.4155588380108321\n",
      "frozenset({'39', '2', '86', '85'}) 0.4588872476612506\n",
      "frozenset({'39', '85', '2', '90'}) 0.4175283111767602\n"
     ]
    }
   ],
   "source": [
    "for item in L[3]:\n",
    "    if item.intersection('2'): # 有毒\n",
    "        print(item, suppData[item])"
   ]
  },
  {
   "cell_type": "code",
   "execution_count": 15,
   "metadata": {
    "collapsed": true
   },
   "outputs": [],
   "source": [
    "L, suppData = apriori(mushDataSet, minSupport=0.5)"
   ]
  },
  {
   "cell_type": "code",
   "execution_count": 16,
   "metadata": {},
   "outputs": [
    {
     "name": "stdout",
     "output_type": "stream",
     "text": [
      "frozenset({'2', '85'}) 0.517971442639094\n"
     ]
    }
   ],
   "source": [
    "for item in L[1]:\n",
    "    if item.intersection('2'): # 有毒\n",
    "        print(item, suppData[item])"
   ]
  },
  {
   "cell_type": "code",
   "execution_count": 17,
   "metadata": {
    "collapsed": true
   },
   "outputs": [],
   "source": [
    "for item in L[3]:\n",
    "    if item.intersection('2'): # 有毒\n",
    "        print(item, suppData[item])"
   ]
  },
  {
   "cell_type": "markdown",
   "metadata": {},
   "source": [
    "接下来你需要观察一下这些特征，以便知道了解野蘑菇的那些方面。如果看到其中任何一个特征，那么这些蘑菇就不要吃了。\n",
    "\n",
    "当然最后还是要声明一下：\n",
    "\n",
    "    尽管上述这些特征在毒蘑菇中很普遍，但是没有这些特征并不意味着该蘑菇就是可食用的。如果吃错了蘑菇，你可能会因此而丧命。"
   ]
  }
 ],
 "metadata": {
  "kernelspec": {
   "display_name": "Python 3",
   "language": "python",
   "name": "python3"
  },
  "language_info": {
   "codemirror_mode": {
    "name": "ipython",
    "version": 3
   },
   "file_extension": ".py",
   "mimetype": "text/x-python",
   "name": "python",
   "nbconvert_exporter": "python",
   "pygments_lexer": "ipython3",
   "version": "3.6.3"
  }
 },
 "nbformat": 4,
 "nbformat_minor": 2
}
